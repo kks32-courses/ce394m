{
 "cells": [
  {
   "cell_type": "markdown",
   "metadata": {},
   "source": [
    "# Seepage analysis using Finite Difference Method\n",
    "\n"
   ]
  },
  {
   "cell_type": "markdown",
   "metadata": {},
   "source": [
    "## Gauss-Seidel pythonic"
   ]
  },
  {
   "cell_type": "code",
   "execution_count": 1,
   "metadata": {},
   "outputs": [
    {
     "name": "stdout",
     "output_type": "stream",
     "text": [
      "# of steps: 978, duration: 0 seconds, error: 9.992487e-10\n"
     ]
    },
    {
     "data": {
      "text/plain": [
       "<matplotlib.colorbar.Colorbar at 0x7f04eae74850>"
      ]
     },
     "execution_count": 1,
     "metadata": {},
     "output_type": "execute_result"
    },
    {
     "data": {
      "image/png": "[encoded data removed]",
      "text/plain": [
       "<Figure size 432x288 with 2 Axes>"
      ]
     },
     "metadata": {
      "needs_background": "light"
     },
     "output_type": "display_data"
    }
   ],
   "source": [
    "# Seepage analysis using Finite Difference Method\n",
    "import numpy as np\n",
    "\n",
    "import matplotlib\n",
    "import matplotlib.cm as cm\n",
    "import matplotlib.mlab as mlab\n",
    "import matplotlib.pyplot as plt\n",
    "%matplotlib inline\n",
    "import time\n",
    "\n",
    "# Geometry\n",
    "## Dam size in m\n",
    "damStart = 200\n",
    "damLength = 80\n",
    "\n",
    "## Domain size in m\n",
    "height = 80\n",
    "length = 440\n",
    "\n",
    "## Grid size in m\n",
    "dx = 10\n",
    "\n",
    "# Head on left and right\n",
    "lhead = 105\n",
    "rhead = 80\n",
    "\n",
    "# No need to change anything below this\n",
    "ldam = int(damStart/dx)\n",
    "rdam = int((damStart + damLength)/dx)\n",
    "\n",
    "## Head\n",
    "h = np.zeros([int(height/dx), int(length/dx)])\n",
    "\n",
    "# Left head\n",
    "h[0, 0:ldam]= lhead\n",
    "# Right head\n",
    "h[0, (ldam + 1):]= rhead\n",
    "\n",
    "# Error and tolerance\n",
    "tolerance = 1.E-9\n",
    "error = 1.0\n",
    "step = 0\n",
    "\n",
    "# Residual\n",
    "residual = np.zeros(np.shape(h))\n",
    "\n",
    "(nrows, ncols) = h.shape\n",
    "\n",
    "\n",
    "# Start clock\n",
    "start_time = time.time()\n",
    "\n",
    "# Gauss-Seidel iteration\n",
    "while error > tolerance:\n",
    "    step = step + 1\n",
    "    # Copy the head grid to residual\n",
    "    residual = h.copy()\n",
    "\n",
    "    # Domain\n",
    "    h[1:nrows-1, 1:ncols-1]=(h[0:nrows-2,1:ncols-1]+h[2:nrows,1:ncols-1]+h[1:nrows-1,0:ncols-2]+\n",
    "                             h[1:nrows-1,2:ncols])/4\n",
    "\n",
    "    # Top left side of dam boundary assign head\n",
    "    #if i == 0 and j <= (ldam + 1):\n",
    "    h[0,:(ldam + 2)] = lhead\n",
    "\n",
    "    # Top boundary beneath the dam\n",
    "    #elif i == 0 and j > (ldam + 1) and j < (rdam + 1):\n",
    "    #h[0,(ldam + 1):(rdam+2)] = (h[0,j-1]+h[i,j+1]+2*h[i+1,j])/4;\n",
    "    h[0,(ldam + 1):(rdam+2)] = (h[0,ldam:rdam+1]+h[0,(ldam+2):(rdam+3)]+2*h[1,(ldam + 1):(rdam+2)])/4;\n",
    "\n",
    "    # Top right side of dam boundary assign head\n",
    "    #elif i == 0 and j > (rdam):\n",
    "    h[0,rdam:]= rhead\n",
    "\n",
    "    # Left boundary\n",
    "    # elif j == 0 and i > 0 and i < (nrows -1):\n",
    "    h[1:(nrows-1),0]=(h[0:(nrows-2),0]+h[2:nrows,0]+2*h[1:(nrows-1),1])/4\n",
    "\n",
    "    # Right boundary\n",
    "    # elif j == (ncols -1) and i > 0 and i < (nrows - 1):\n",
    "    h[1:(nrows-1),(ncols-1)]=(2*h[1:(nrows-1),(ncols-2)]+h[0:(nrows-2),(ncols-1)]+h[2:(nrows),(ncols-1)])/4\n",
    "\n",
    "    # Left bottom corner\n",
    "    # elif i == (nrows -1) and j == 0:\n",
    "    # h[i,j]=(h[i-1,j]+h[i,j+1])/2\n",
    "    h[(nrows-1),0]=(h[nrows-2,0]+h[nrows-1,1])/2\n",
    "\n",
    "    # Bottom boundary\n",
    "    # elif i == (nrows -1) and j > 0 and j < (ncols - 1):\n",
    "    h[nrows-1,1:(ncols-1)]=(h[(nrows-1),0:(ncols-2)]+h[(nrows-1),2:(ncols)]+2*h[(nrows-2),1:(ncols-1)])/4\n",
    "\n",
    "    # Right bottom corner\n",
    "    # elif i == (nrows -1) and  j == (ncols -1):\n",
    "    h[(nrows -1),(ncols -1)]=(h[(nrows -1),(ncols -2)]+h[(nrows -2),(ncols -2)])/2\n",
    "\n",
    "    # Error\n",
    "    error = (np.square(np.subtract(h, residual))).max()\n",
    "\n",
    "elapsed_time = time.time() - start_time    \n",
    "print('# of steps: %d, duration: %d seconds, error: %le' %(step, elapsed_time, error))\n",
    "plt.contour(np.flipud(h), 10, linewidths=0.5, colors='c')\n",
    "plt.contourf(np.flipud(h), 10)\n",
    "plt.colorbar()\n",
    "\n"
   ]
  },
  {
   "cell_type": "code",
   "execution_count": 35,
   "metadata": {},
   "outputs": [
    {
     "name": "stdout",
     "output_type": "stream",
     "text": [
      "[0 1 2 3 4 5 6 7 0 1 2 3 4 5 6 7 0 1 2 3 4 5 6 7 0 1 2 3 4 5 6 7 0 1 2 3 4\n",
      " 5 6 7 0 1 2 3 4 5 6 7 0 1 2 3 4 5 6 7 0 1 2 3 4 5 6 7 0 1 2 3 4 5 6 7 0 1\n",
      " 2 3 4 5 6 7 0 1 2 3 4 5 6 7 0 1 2 3 4 5 6 7 0 1 2 3 4 5 6 7 0 1 2 3 4 5 6\n",
      " 7 0 1 2 3 4 5 6 7 0 1 2 3 4 5 6 7 0 1 2 3 4 5 6 7 0 1 2 3 4 5 6 7 0 1 2 3\n",
      " 4 5 6 7 0 1 2 3 4 5 6 7 0 1 2 3 4 5 6 7 0 1 2 3 4 5 6 7 0 1 2 3 4 5 6 7 0\n",
      " 1 2 3 4 5 6 7 0 1 2 3 4 5 6 7 0 1 2 3 4 5 6 7 0 1 2 3 4 5 6 7 0 1 2 3 4 5\n",
      " 6 7 0 1 2 3 4 5 6 7 0 1 2 3 4 5 6 7 0 1 2 3 4 5 6 7 0 1 2 3 4 5 6 7 0 1 2\n",
      " 3 4 5 6 7 0 1 2 3 4 5 6 7 0 1 2 3 4 5 6 7 0 1 2 3 4 5 6 7 0 1 2 3 4 5 6 7\n",
      " 0 1 2 3 4 5 6 7 0 1 2 3 4 5 6 7 0 1 2 3 4 5 6 7 0 1 2 3 4 5 6 7 0 1 2 3 4\n",
      " 5 6 7 0 1 2 3 4 5 6 7 0 1 2 3 4 5 6 7]\n"
     ]
    },
    {
     "ename": "ValueError",
     "evalue": "'x' values must be equally spaced",
     "output_type": "error",
     "traceback": [
      "\u001b[0;31m---------------------------------------------------------------------------\u001b[0m",
      "\u001b[0;31mValueError\u001b[0m                                Traceback (most recent call last)",
      "\u001b[0;32m<ipython-input-35-ad2ffe91c449>\u001b[0m in \u001b[0;36m<module>\u001b[0;34m\u001b[0m\n\u001b[1;32m     13\u001b[0m \u001b[0;34m\u001b[0m\u001b[0m\n\u001b[1;32m     14\u001b[0m \u001b[0mfig\u001b[0m\u001b[0;34m,\u001b[0m \u001b[0max\u001b[0m \u001b[0;34m=\u001b[0m \u001b[0mplt\u001b[0m\u001b[0;34m.\u001b[0m\u001b[0msubplots\u001b[0m\u001b[0;34m(\u001b[0m\u001b[0;34m)\u001b[0m\u001b[0;34m\u001b[0m\u001b[0;34m\u001b[0m\u001b[0m\n\u001b[0;32m---> 15\u001b[0;31m \u001b[0max\u001b[0m\u001b[0;34m.\u001b[0m\u001b[0mstreamplot\u001b[0m\u001b[0;34m(\u001b[0m\u001b[0mx\u001b[0m\u001b[0;34m,\u001b[0m \u001b[0my\u001b[0m\u001b[0;34m,\u001b[0m \u001b[0mdx\u001b[0m\u001b[0;34m,\u001b[0m \u001b[0mdy\u001b[0m\u001b[0;34m,\u001b[0m \u001b[0mcolor\u001b[0m\u001b[0;34m=\u001b[0m\u001b[0;34m'0.8'\u001b[0m\u001b[0;34m,\u001b[0m \u001b[0mdensity\u001b[0m\u001b[0;34m=\u001b[0m\u001b[0;36m1\u001b[0m\u001b[0;34m)\u001b[0m\u001b[0;34m\u001b[0m\u001b[0;34m\u001b[0m\u001b[0m\n\u001b[0m",
      "\u001b[0;32m/usr/lib64/python3.8/site-packages/matplotlib/__init__.py\u001b[0m in \u001b[0;36minner\u001b[0;34m(ax, data, *args, **kwargs)\u001b[0m\n\u001b[1;32m   1540\u001b[0m     \u001b[0;32mdef\u001b[0m \u001b[0minner\u001b[0m\u001b[0;34m(\u001b[0m\u001b[0max\u001b[0m\u001b[0;34m,\u001b[0m \u001b[0;34m*\u001b[0m\u001b[0margs\u001b[0m\u001b[0;34m,\u001b[0m \u001b[0mdata\u001b[0m\u001b[0;34m=\u001b[0m\u001b[0;32mNone\u001b[0m\u001b[0;34m,\u001b[0m \u001b[0;34m**\u001b[0m\u001b[0mkwargs\u001b[0m\u001b[0;34m)\u001b[0m\u001b[0;34m:\u001b[0m\u001b[0;34m\u001b[0m\u001b[0;34m\u001b[0m\u001b[0m\n\u001b[1;32m   1541\u001b[0m         \u001b[0;32mif\u001b[0m \u001b[0mdata\u001b[0m \u001b[0;32mis\u001b[0m \u001b[0;32mNone\u001b[0m\u001b[0;34m:\u001b[0m\u001b[0;34m\u001b[0m\u001b[0;34m\u001b[0m\u001b[0m\n\u001b[0;32m-> 1542\u001b[0;31m             \u001b[0;32mreturn\u001b[0m \u001b[0mfunc\u001b[0m\u001b[0;34m(\u001b[0m\u001b[0max\u001b[0m\u001b[0;34m,\u001b[0m \u001b[0;34m*\u001b[0m\u001b[0mmap\u001b[0m\u001b[0;34m(\u001b[0m\u001b[0msanitize_sequence\u001b[0m\u001b[0;34m,\u001b[0m \u001b[0margs\u001b[0m\u001b[0;34m)\u001b[0m\u001b[0;34m,\u001b[0m \u001b[0;34m**\u001b[0m\u001b[0mkwargs\u001b[0m\u001b[0;34m)\u001b[0m\u001b[0;34m\u001b[0m\u001b[0;34m\u001b[0m\u001b[0m\n\u001b[0m\u001b[1;32m   1543\u001b[0m \u001b[0;34m\u001b[0m\u001b[0m\n\u001b[1;32m   1544\u001b[0m         \u001b[0mbound\u001b[0m \u001b[0;34m=\u001b[0m \u001b[0mnew_sig\u001b[0m\u001b[0;34m.\u001b[0m\u001b[0mbind\u001b[0m\u001b[0;34m(\u001b[0m\u001b[0max\u001b[0m\u001b[0;34m,\u001b[0m \u001b[0;34m*\u001b[0m\u001b[0margs\u001b[0m\u001b[0;34m,\u001b[0m \u001b[0;34m**\u001b[0m\u001b[0mkwargs\u001b[0m\u001b[0;34m)\u001b[0m\u001b[0;34m\u001b[0m\u001b[0;34m\u001b[0m\u001b[0m\n",
      "\u001b[0;32m/usr/lib64/python3.8/site-packages/matplotlib/streamplot.py\u001b[0m in \u001b[0;36mstreamplot\u001b[0;34m(axes, x, y, u, v, density, linewidth, color, cmap, norm, arrowsize, arrowstyle, minlength, transform, zorder, start_points, maxlength, integration_direction)\u001b[0m\n\u001b[1;32m     85\u001b[0m         \u001b[0mchanges\u001b[0m \u001b[0mshould\u001b[0m \u001b[0mbe\u001b[0m \u001b[0mbackward\u001b[0m \u001b[0mcompatible\u001b[0m\u001b[0;34m.\u001b[0m\u001b[0;34m\u001b[0m\u001b[0;34m\u001b[0m\u001b[0m\n\u001b[1;32m     86\u001b[0m     \"\"\"\n\u001b[0;32m---> 87\u001b[0;31m     \u001b[0mgrid\u001b[0m \u001b[0;34m=\u001b[0m \u001b[0mGrid\u001b[0m\u001b[0;34m(\u001b[0m\u001b[0mx\u001b[0m\u001b[0;34m,\u001b[0m \u001b[0my\u001b[0m\u001b[0;34m)\u001b[0m\u001b[0;34m\u001b[0m\u001b[0;34m\u001b[0m\u001b[0m\n\u001b[0m\u001b[1;32m     88\u001b[0m     \u001b[0mmask\u001b[0m \u001b[0;34m=\u001b[0m \u001b[0mStreamMask\u001b[0m\u001b[0;34m(\u001b[0m\u001b[0mdensity\u001b[0m\u001b[0;34m)\u001b[0m\u001b[0;34m\u001b[0m\u001b[0;34m\u001b[0m\u001b[0m\n\u001b[1;32m     89\u001b[0m     \u001b[0mdmap\u001b[0m \u001b[0;34m=\u001b[0m \u001b[0mDomainMap\u001b[0m\u001b[0;34m(\u001b[0m\u001b[0mgrid\u001b[0m\u001b[0;34m,\u001b[0m \u001b[0mmask\u001b[0m\u001b[0;34m)\u001b[0m\u001b[0;34m\u001b[0m\u001b[0;34m\u001b[0m\u001b[0m\n",
      "\u001b[0;32m/usr/lib64/python3.8/site-packages/matplotlib/streamplot.py\u001b[0m in \u001b[0;36m__init__\u001b[0;34m(self, x, y)\u001b[0m\n\u001b[1;32m    342\u001b[0m \u001b[0;34m\u001b[0m\u001b[0m\n\u001b[1;32m    343\u001b[0m         \u001b[0;32mif\u001b[0m \u001b[0;32mnot\u001b[0m \u001b[0mnp\u001b[0m\u001b[0;34m.\u001b[0m\u001b[0mallclose\u001b[0m\u001b[0;34m(\u001b[0m\u001b[0mnp\u001b[0m\u001b[0;34m.\u001b[0m\u001b[0mdiff\u001b[0m\u001b[0;34m(\u001b[0m\u001b[0mx\u001b[0m\u001b[0;34m)\u001b[0m\u001b[0;34m,\u001b[0m \u001b[0mself\u001b[0m\u001b[0;34m.\u001b[0m\u001b[0mwidth\u001b[0m \u001b[0;34m/\u001b[0m \u001b[0;34m(\u001b[0m\u001b[0mself\u001b[0m\u001b[0;34m.\u001b[0m\u001b[0mnx\u001b[0m \u001b[0;34m-\u001b[0m \u001b[0;36m1\u001b[0m\u001b[0;34m)\u001b[0m\u001b[0;34m)\u001b[0m\u001b[0;34m:\u001b[0m\u001b[0;34m\u001b[0m\u001b[0;34m\u001b[0m\u001b[0m\n\u001b[0;32m--> 344\u001b[0;31m             \u001b[0;32mraise\u001b[0m \u001b[0mValueError\u001b[0m\u001b[0;34m(\u001b[0m\u001b[0;34m\"'x' values must be equally spaced\"\u001b[0m\u001b[0;34m)\u001b[0m\u001b[0;34m\u001b[0m\u001b[0;34m\u001b[0m\u001b[0m\n\u001b[0m\u001b[1;32m    345\u001b[0m         \u001b[0;32mif\u001b[0m \u001b[0;32mnot\u001b[0m \u001b[0mnp\u001b[0m\u001b[0;34m.\u001b[0m\u001b[0mallclose\u001b[0m\u001b[0;34m(\u001b[0m\u001b[0mnp\u001b[0m\u001b[0;34m.\u001b[0m\u001b[0mdiff\u001b[0m\u001b[0;34m(\u001b[0m\u001b[0my\u001b[0m\u001b[0;34m)\u001b[0m\u001b[0;34m,\u001b[0m \u001b[0mself\u001b[0m\u001b[0;34m.\u001b[0m\u001b[0mheight\u001b[0m \u001b[0;34m/\u001b[0m \u001b[0;34m(\u001b[0m\u001b[0mself\u001b[0m\u001b[0;34m.\u001b[0m\u001b[0mny\u001b[0m \u001b[0;34m-\u001b[0m \u001b[0;36m1\u001b[0m\u001b[0;34m)\u001b[0m\u001b[0;34m)\u001b[0m\u001b[0;34m:\u001b[0m\u001b[0;34m\u001b[0m\u001b[0;34m\u001b[0m\u001b[0m\n\u001b[1;32m    346\u001b[0m             \u001b[0;32mraise\u001b[0m \u001b[0mValueError\u001b[0m\u001b[0;34m(\u001b[0m\u001b[0;34m\"'y' values must be equally spaced\"\u001b[0m\u001b[0;34m)\u001b[0m\u001b[0;34m\u001b[0m\u001b[0;34m\u001b[0m\u001b[0m\n",
      "\u001b[0;31mValueError\u001b[0m: 'x' values must be equally spaced"
     ]
    },
    {
     "data": {
      "image/png": "[encoded data removed]",
      "text/plain": [
       "<Figure size 432x288 with 1 Axes>"
      ]
     },
     "metadata": {
      "needs_background": "light"
     },
     "output_type": "display_data"
    }
   ],
   "source": [
    "x = []\n",
    "y = []\n",
    "\n",
    "for i in range(0, h.shape[1]):\n",
    "    for j in range(0, h.shape[0]):\n",
    "        x.append(j)\n",
    "        y.append(i)\n",
    "\n",
    "z = np.ravel(h)\n",
    "\n",
    "from scipy.interpolate import Rbf\n",
    "# Interpolate these onto a regular grid\n",
    "xi, yi = np.mgrid[0:1:100j, 0:1:100j]\n",
    "func = Rbf(x, y, z, function='linear')\n",
    "zi = func(xi, yi)\n",
    "\n",
    "dy, dx = np.gradient(-h)\n",
    "\n",
    "fig, ax = plt.subplots()\n",
    "ax.streamplot(x, y, dx, dy, color='0.8', density=1)"
   ]
  },
  {
   "cell_type": "code",
   "execution_count": 14,
   "metadata": {},
   "outputs": [
    {
     "data": {
      "text/plain": [
       "<matplotlib.contour.QuadContourSet at 0x7f04eaa9d670>"
      ]
     },
     "execution_count": 14,
     "metadata": {},
     "output_type": "execute_result"
    },
    {
     "data": {
      "image/png": "[encoded data removed]",
      "text/plain": [
       "<Figure size 432x288 with 1 Axes>"
      ]
     },
     "metadata": {
      "needs_background": "light"
     },
     "output_type": "display_data"
    }
   ],
   "source": [
    "flow = np.gradient(-h)\n",
    "mag = np.sqrt(flow[0]**2 + flow[1]**2)\n",
    "plt.contour(np.flipud(mag), 50, linewidths=0.5, colors='k')\n",
    "plt.contourf(np.flipud(mag), 50)"
   ]
  },
  {
   "cell_type": "markdown",
   "metadata": {},
   "source": [
    "\n",
    "## Gauss-Seidel iteration"
   ]
  },
  {
   "cell_type": "code",
   "execution_count": 1,
   "metadata": {},
   "outputs": [
    {
     "ename": "KeyboardInterrupt",
     "evalue": "",
     "output_type": "error",
     "traceback": [
      "\u001b[0;31m---------------------------------------------------------------------------\u001b[0m",
      "\u001b[0;31mKeyboardInterrupt\u001b[0m                         Traceback (most recent call last)",
      "\u001b[0;32m<ipython-input-1-06b55051e2ab>\u001b[0m in \u001b[0;36m<module>\u001b[0;34m\u001b[0m\n\u001b[1;32m     77\u001b[0m             \u001b[0;31m# Domain\u001b[0m\u001b[0;34m\u001b[0m\u001b[0;34m\u001b[0m\u001b[0;34m\u001b[0m\u001b[0m\n\u001b[1;32m     78\u001b[0m             \u001b[0;32melse\u001b[0m\u001b[0;34m:\u001b[0m\u001b[0;34m\u001b[0m\u001b[0;34m\u001b[0m\u001b[0m\n\u001b[0;32m---> 79\u001b[0;31m                 \u001b[0mh\u001b[0m\u001b[0;34m[\u001b[0m\u001b[0mi\u001b[0m\u001b[0;34m,\u001b[0m\u001b[0mj\u001b[0m\u001b[0;34m]\u001b[0m\u001b[0;34m=\u001b[0m\u001b[0;34m(\u001b[0m\u001b[0mh\u001b[0m\u001b[0;34m[\u001b[0m\u001b[0mi\u001b[0m\u001b[0;34m-\u001b[0m\u001b[0;36m1\u001b[0m\u001b[0;34m,\u001b[0m\u001b[0mj\u001b[0m\u001b[0;34m]\u001b[0m\u001b[0;34m+\u001b[0m\u001b[0mh\u001b[0m\u001b[0;34m[\u001b[0m\u001b[0mi\u001b[0m\u001b[0;34m+\u001b[0m\u001b[0;36m1\u001b[0m\u001b[0;34m,\u001b[0m\u001b[0mj\u001b[0m\u001b[0;34m]\u001b[0m\u001b[0;34m+\u001b[0m\u001b[0mh\u001b[0m\u001b[0;34m[\u001b[0m\u001b[0mi\u001b[0m\u001b[0;34m,\u001b[0m\u001b[0mj\u001b[0m\u001b[0;34m-\u001b[0m\u001b[0;36m1\u001b[0m\u001b[0;34m]\u001b[0m\u001b[0;34m+\u001b[0m\u001b[0mh\u001b[0m\u001b[0;34m[\u001b[0m\u001b[0mi\u001b[0m\u001b[0;34m,\u001b[0m\u001b[0mj\u001b[0m\u001b[0;34m+\u001b[0m\u001b[0;36m1\u001b[0m\u001b[0;34m]\u001b[0m\u001b[0;34m)\u001b[0m\u001b[0;34m/\u001b[0m\u001b[0;36m4\u001b[0m\u001b[0;34m\u001b[0m\u001b[0;34m\u001b[0m\u001b[0m\n\u001b[0m\u001b[1;32m     80\u001b[0m \u001b[0;34m\u001b[0m\u001b[0m\n\u001b[1;32m     81\u001b[0m     \u001b[0;31m# Error\u001b[0m\u001b[0;34m\u001b[0m\u001b[0;34m\u001b[0m\u001b[0;34m\u001b[0m\u001b[0m\n",
      "\u001b[0;31mKeyboardInterrupt\u001b[0m: "
     ]
    }
   ],
   "source": [
    "import numpy as np\n",
    "\n",
    "import matplotlib\n",
    "import matplotlib.cm as cm\n",
    "import matplotlib.mlab as mlab\n",
    "import matplotlib.pyplot as plt\n",
    "%matplotlib inline\n",
    "\n",
    "# Convolution\n",
    "from scipy.ndimage import convolve, generate_binary_structure\n",
    "\n",
    "# Geometry\n",
    "## Dam\n",
    "ldam = 200\n",
    "rdam = 240\n",
    "\n",
    "## Head\n",
    "h = np.zeros([80, 440])\n",
    "lhead = 105\n",
    "rhead = 80\n",
    "\n",
    "# Left head\n",
    "h[0, 0:ldam]= lhead\n",
    "# Right head\n",
    "h[0, (ldam + 1):]= rhead\n",
    "\n",
    "# Error and tolerance\n",
    "tolerance = 1.E-9\n",
    "error = 1.0\n",
    "step = 0\n",
    "\n",
    "# Residual\n",
    "residual = np.zeros([80, 440])\n",
    "\n",
    "(nrows, ncols) = h.shape\n",
    "\n",
    "# Gauss-Seidel iteration\n",
    "while error > tolerance:\n",
    "    step = step + 1\n",
    "    # Copy the head grid to residual\n",
    "    residual = h.copy()\n",
    "    \n",
    "    for i in range(0, nrows):\n",
    "        for j in range(0, ncols):\n",
    "            # Top left side of dam boundary assign head\n",
    "            if i == 0 and j <= (ldam + 1):\n",
    "                h[i,j] = lhead\n",
    "            \n",
    "            # Top boundary beneath the dam\n",
    "            elif i == 0 and j > (ldam + 1) and j < (rdam + 1):\n",
    "                h[i,j] = (h[i,j-1]+h[i,j+1]+2*h[i+1,j])/4;\n",
    "            \n",
    "            # Top right side of dam boundary assign head\n",
    "            elif i == 0 and j > (rdam):\n",
    "                h[i,j]= rhead\n",
    "                \n",
    "            # Left boundary\n",
    "            elif j == 0 and i > 0 and i < (nrows -1):\n",
    "                h[i,j]=(h[i-1,j]+h[i+1,j]+2*h[i,j+1])/4\n",
    "\n",
    "            # Right boundary\n",
    "            elif j == (ncols -1) and i > 0 and i < (nrows - 1):\n",
    "                h[i,j]=(2*h[i,j-1]+h[i-1,j]+h[i+1,j])/4\n",
    "            \n",
    "            # Left bottom corner\n",
    "            elif i == (nrows -1) and j == 0:\n",
    "                h[i,j]=(h[i-1,j]+h[i,j+1])/2\n",
    "            \n",
    "            # Bottom boundary\n",
    "            elif i == (nrows -1) and j > 0 and j < (ncols - 1):\n",
    "                h[i,j]=(h[i,j-1]+h[i,j+1]+2*h[i-1,j])/4\n",
    "            \n",
    "            # Right bottom corner\n",
    "            elif i == (nrows -1) and  j == (ncols -1):\n",
    "                h[i,j]=(h[i,j-1]+h[i-1,j])/2\n",
    "            \n",
    "            # Domain\n",
    "            else:\n",
    "                h[i,j]=(h[i-1,j]+h[i+1,j]+h[i,j-1]+h[i,j+1])/4\n",
    "    \n",
    "    # Error\n",
    "    error = (np.square(np.subtract(h, residual))).max()\n",
    "\n",
    "print('# of steps: %d, error: %le' %(step, error))"
   ]
  },
  {
   "cell_type": "code",
   "execution_count": null,
   "metadata": {},
   "outputs": [],
   "source": [
    "plt.contour(np.flipud(h), levels=25)"
   ]
  },
  {
   "cell_type": "markdown",
   "metadata": {},
   "source": [
    "## Jacobi iteration with convolution"
   ]
  },
  {
   "cell_type": "code",
   "execution_count": 1,
   "metadata": {},
   "outputs": [
    {
     "name": "stdout",
     "output_type": "stream",
     "text": [
      "# of steps: 59466, duration: 75 seconds, error: 9.998128e-10\n"
     ]
    }
   ],
   "source": [
    "import numpy as np\n",
    "import matplotlib.pyplot as plt\n",
    "%matplotlib inline\n",
    "# Convolution\n",
    "from scipy.ndimage import convolve, generate_binary_structure\n",
    "import time\n",
    "\n",
    "# Geometry\n",
    "rows = 80\n",
    "cols = 440\n",
    "\n",
    "## Dam\n",
    "ldam = 200\n",
    "rdam = 240\n",
    "\n",
    "## Head\n",
    "h = np.zeros([rows, cols])\n",
    "lhead = 105\n",
    "rhead = 0\n",
    "\n",
    "# Error and tolerance\n",
    "tolerance = 1.E-9\n",
    "error = 1.0\n",
    "step = 0\n",
    "\n",
    "# Residual\n",
    "residual = np.zeros([80, 440])\n",
    "\n",
    "(nrows, ncols) = h.shape\n",
    "\n",
    "# Start clock\n",
    "start_time = time.time()\n",
    "\n",
    "# Jacobi iteration\n",
    "while error > tolerance:\n",
    "    # Number of steps\n",
    "    step = step + 1\n",
    "    \n",
    "    # Copy the head grid to residual\n",
    "    residual = h.copy()\n",
    "    \n",
    "    # Finite Difference Method\n",
    "    # Top left side of dam boundary assign head\n",
    "    # if i == 0 and j <= (ldam):\n",
    "    h[0, :(ldam+1)] = lhead\n",
    "\n",
    "    # Top right side of dam boundary assign head\n",
    "    # i == 0 and j > (rdam):\n",
    "    h[0, (rdam+1):]= rhead\n",
    "    \n",
    "    # h[i, j] = (h[i-1, j] + h[i, j-1] + h[i, j+1] + h[i+1, j]) / 4\n",
    "    # Define a kernel function with active neighbours\n",
    "    k = generate_binary_structure(2, 1)\n",
    "    k[1, 1] = False\n",
    "    \n",
    "    # Use convolution instead of loop iteration\n",
    "    # https://en.wikipedia.org/wiki/Convolution\n",
    "    B = convolve(h, k, mode='constant', cval=0.0)\n",
    "    B *= 0.25\n",
    "    \n",
    "    # Top boundary beneath the dam\n",
    "    # i == 0 and j > (ldam + 1) and j < (rdam + 1):\n",
    "    for j in range(ldam+1, rdam+1):\n",
    "        B[0, j] = (h[0,j-1]+h[0,j+1]+2*h[1,j])/4;\n",
    "    \n",
    "    # Left boundary\n",
    "    # j == 0 and i > 0 and i < (nrows -1):\n",
    "    for i in range(1, (nrows - 1)):\n",
    "        B[i, 0] = (h[i-1, 0] + h[i+1, 0] + 2 * h[i, 1])/4\n",
    "\n",
    "    # Right boundary\n",
    "    # j == (ncols -1) and i > 0 and i < (nrows - 1):\n",
    "    for i in range(1, (nrows - 1)):\n",
    "        B[i, (ncols - 1)] = (2 * h[i, ncols-2] + h[i-1, ncols - 1] + h[i+1, ncols - 1]) / 4\n",
    "            \n",
    "    # Left bottom corner\n",
    "    # i == (nrows -1) and j == 0:\n",
    "    B[(nrows - 1), 0] = (h[(nrows - 2), 0] + h[(nrows - 1), 1]) / 2\n",
    "            \n",
    "    # Bottom boundary\n",
    "    # i == (nrows -1) and j > 0 and j < (ncols - 1):\n",
    "    for j in range(1, (ncols - 1)):\n",
    "        B[(nrows -1), j] = (h[(nrows - 1), j-1] + h[(nrows - 1), j+1] + 2 * h[(nrows - 2), j])/4\n",
    "            \n",
    "    # Right bottom corner\n",
    "    # i == (nrows -1) and  j == (ncols -1):\n",
    "    B[(nrows - 1), (ncols - 1)] = (h[(nrows - 1), (ncols -2)] + h[(nrows -2), (ncols -1)])/2\n",
    "    \n",
    "    h = B.copy()\n",
    "    \n",
    "    # Calculate error\n",
    "    error = (np.square(np.subtract(h, residual))).max()\n",
    "\n",
    "elapsed_time = time.time() - start_time    \n",
    "print('# of steps: %d, duration: %d seconds, error: %le' %(step, elapsed_time, error))"
   ]
  },
  {
   "cell_type": "code",
   "execution_count": 2,
   "metadata": {},
   "outputs": [
    {
     "data": {
      "text/plain": [
       "<matplotlib.contour.QuadContourSet at 0x7f19dac86c10>"
      ]
     },
     "execution_count": 2,
     "metadata": {},
     "output_type": "execute_result"
    },
    {
     "data": {
      "image/png": "[encoded data removed]",
      "text/plain": [
       "<Figure size 432x288 with 1 Axes>"
      ]
     },
     "metadata": {
      "needs_background": "light"
     },
     "output_type": "display_data"
    }
   ],
   "source": [
    "plt.contourf(np.flipud(h), levels=25)"
   ]
  },
  {
   "cell_type": "markdown",
   "metadata": {},
   "source": [
    "## Naive Jacobi"
   ]
  },
  {
   "cell_type": "code",
   "execution_count": null,
   "metadata": {},
   "outputs": [],
   "source": [
    "import numpy as np\n",
    "\n",
    "import matplotlib\n",
    "import matplotlib.cm as cm\n",
    "import matplotlib.mlab as mlab\n",
    "import matplotlib.pyplot as plt\n",
    "%matplotlib inline\n",
    "\n",
    "# Convolution\n",
    "from scipy.ndimage import convolve, generate_binary_structure\n",
    "\n",
    "# Geometry\n",
    "## Dam\n",
    "ldam = 200\n",
    "rdam = 240\n",
    "\n",
    "## Head\n",
    "h = np.zeros([80, 440])\n",
    "lhead = 105\n",
    "rhead = 80\n",
    "\n",
    "# Error and tolerance\n",
    "tolerance = 1.E-9\n",
    "error = 1.0\n",
    "step = 0\n",
    "\n",
    "# Residual\n",
    "residual = np.zeros([80, 440])\n",
    "\n",
    "(nrows, ncols) = h.shape\n",
    "\n",
    "# Naive Jacobi iteration\n",
    "while error > tolerance:\n",
    "    step = step + 1\n",
    "    # Copy the head grid to residual\n",
    "    residual = h.copy()\n",
    "    \n",
    "    b = np.zeros([80, 440])\n",
    "    for i in range(0, nrows):\n",
    "        for j in range(0, ncols):\n",
    "            # Top left side of dam boundary assign head\n",
    "            if i == 0 and j <= ldam:\n",
    "                b[i,j] = lhead\n",
    "            \n",
    "            # Top boundary beneath the dam\n",
    "            elif i == 0 and j > ldam and j < (rdam + 1):\n",
    "                b[i,j] = (h[i,j-1]+h[i,j+1]+2*h[i+1,j])/4;\n",
    "            \n",
    "            # Top right side of dam boundary assign head\n",
    "            elif i == 0 and j > (rdam):\n",
    "                b[i,j]= rhead\n",
    "            \n",
    "            # Left boundary\n",
    "            elif j == 0 and i > 0 and i < (nrows -1):\n",
    "                b[i,j]=(h[i-1,j]+h[i+1,j]+2*h[i,j+1])/4\n",
    "\n",
    "            # Right boundary\n",
    "            elif j == (ncols -1) and i > 0 and i < (nrows - 1):\n",
    "                b[i,j]=(2*h[i,j-1]+h[i-1,j]+h[i+1,j])/4\n",
    "            \n",
    "            # Left bottom corner\n",
    "            elif i == (nrows -1) and j == 0:\n",
    "                b[i,j]=(h[i-1,j]+h[i,j+1])/2\n",
    "            \n",
    "            # Bottom boundary\n",
    "            elif i == (nrows -1) and j > 0 and j < (ncols - 1):\n",
    "                b[i,j]=(h[i,j-1]+h[i,j+1]+2*h[i-1,j])/4\n",
    "            \n",
    "            # Right bottom corner\n",
    "            elif i == (nrows -1) and  j == (ncols -1):\n",
    "                b[i,j]=(h[i,j-1]+h[i-1,j])/2\n",
    "            \n",
    "            # Domain\n",
    "            else:\n",
    "                b[i,j]=(h[i-1,j] + h[i+1,j]+h[i,j-1]+h[i,j+1])/4\n",
    "    \n",
    "    h = b.copy()\n",
    "    # Error\n",
    "    error = (np.square(np.subtract(h, residual))).max()\n",
    "\n",
    "print('# of steps: %d, error: %le' %(step, error))\n",
    "plt.contour(np.flipud(h), levels=10)"
   ]
  }
 ],
 "metadata": {
  "kernelspec": {
   "display_name": "Python 3",
   "language": "python",
   "name": "python3"
  },
  "language_info": {
   "codemirror_mode": {
    "name": "ipython",
    "version": 3
   },
   "file_extension": ".py",
   "mimetype": "text/x-python",
   "name": "python",
   "nbconvert_exporter": "python",
   "pygments_lexer": "ipython3",
   "version": "3.8.3"
  }
 },
 "nbformat": 4,
 "nbformat_minor": 2
}
